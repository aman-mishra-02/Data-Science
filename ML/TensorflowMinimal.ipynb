{
 "cells": [
  {
   "cell_type": "code",
   "execution_count": 1,
   "metadata": {},
   "outputs": [],
   "source": [
    "import numpy as np\n",
    "import matplotlib.pyplot as plt\n",
    "import tensorflow as tf"
   ]
  },
  {
   "cell_type": "code",
   "execution_count": 2,
   "metadata": {},
   "outputs": [],
   "source": [
    "observations = 1000\n",
    "\n",
    "xs = np.random.uniform(low=-10, high=10, size=(observations,1))\n",
    "zs = np.random.uniform(-10, 10, (observations,1))\n",
    "\n",
    "generated_inputs = np.column_stack((xs,zs))\n",
    "\n",
    "noise = np.random.uniform(-1, 1, (observations,1))\n",
    "\n",
    "generated_targets = 2*xs - 3*zs + 5 + noise\n",
    "\n",
    "np.savez('TF_intro', inputs=generated_inputs, targets=generated_targets)"
   ]
  },
  {
   "cell_type": "code",
   "execution_count": 3,
   "metadata": {},
   "outputs": [],
   "source": [
    "training_data = np.load('TF_intro.npz')"
   ]
  },
  {
   "cell_type": "code",
   "execution_count": 4,
   "metadata": {},
   "outputs": [
    {
     "name": "stdout",
     "output_type": "stream",
     "text": [
      "Epoch 1/100\n",
      "32/32 - 1s - loss: 33.7790 - 508ms/epoch - 16ms/step\n",
      "Epoch 2/100\n",
      "32/32 - 0s - loss: 1.0569 - 34ms/epoch - 1ms/step\n",
      "Epoch 3/100\n",
      "32/32 - 0s - loss: 0.4511 - 34ms/epoch - 1ms/step\n",
      "Epoch 4/100\n",
      "32/32 - 0s - loss: 0.3856 - 33ms/epoch - 1ms/step\n",
      "Epoch 5/100\n",
      "32/32 - 0s - loss: 0.3792 - 34ms/epoch - 1ms/step\n",
      "Epoch 6/100\n",
      "32/32 - 0s - loss: 0.3905 - 35ms/epoch - 1ms/step\n",
      "Epoch 7/100\n",
      "32/32 - 0s - loss: 0.3786 - 34ms/epoch - 1ms/step\n",
      "Epoch 8/100\n",
      "32/32 - 0s - loss: 0.3722 - 42ms/epoch - 1ms/step\n",
      "Epoch 9/100\n",
      "32/32 - 0s - loss: 0.3792 - 56ms/epoch - 2ms/step\n",
      "Epoch 10/100\n",
      "32/32 - 0s - loss: 0.3721 - 35ms/epoch - 1ms/step\n",
      "Epoch 11/100\n",
      "32/32 - 0s - loss: 0.4058 - 40ms/epoch - 1ms/step\n",
      "Epoch 12/100\n",
      "32/32 - 0s - loss: 0.4291 - 55ms/epoch - 2ms/step\n",
      "Epoch 13/100\n",
      "32/32 - 0s - loss: 0.3742 - 50ms/epoch - 2ms/step\n",
      "Epoch 14/100\n",
      "32/32 - 0s - loss: 0.3804 - 40ms/epoch - 1ms/step\n",
      "Epoch 15/100\n",
      "32/32 - 0s - loss: 0.4022 - 37ms/epoch - 1ms/step\n",
      "Epoch 16/100\n",
      "32/32 - 0s - loss: 0.3765 - 43ms/epoch - 1ms/step\n",
      "Epoch 17/100\n",
      "32/32 - 0s - loss: 0.3976 - 34ms/epoch - 1ms/step\n",
      "Epoch 18/100\n",
      "32/32 - 0s - loss: 0.3866 - 34ms/epoch - 1ms/step\n",
      "Epoch 19/100\n",
      "32/32 - 0s - loss: 0.3929 - 34ms/epoch - 1ms/step\n",
      "Epoch 20/100\n",
      "32/32 - 0s - loss: 0.3855 - 34ms/epoch - 1ms/step\n",
      "Epoch 21/100\n",
      "32/32 - 0s - loss: 0.3754 - 35ms/epoch - 1ms/step\n",
      "Epoch 22/100\n",
      "32/32 - 0s - loss: 0.3680 - 38ms/epoch - 1ms/step\n",
      "Epoch 23/100\n",
      "32/32 - 0s - loss: 0.4173 - 37ms/epoch - 1ms/step\n",
      "Epoch 24/100\n",
      "32/32 - 0s - loss: 0.3955 - 34ms/epoch - 1ms/step\n",
      "Epoch 25/100\n",
      "32/32 - 0s - loss: 0.3694 - 33ms/epoch - 1ms/step\n",
      "Epoch 26/100\n",
      "32/32 - 0s - loss: 0.3817 - 33ms/epoch - 1ms/step\n",
      "Epoch 27/100\n",
      "32/32 - 0s - loss: 0.4133 - 34ms/epoch - 1ms/step\n",
      "Epoch 28/100\n",
      "32/32 - 0s - loss: 0.3710 - 35ms/epoch - 1ms/step\n",
      "Epoch 29/100\n",
      "32/32 - 0s - loss: 0.3900 - 33ms/epoch - 1ms/step\n",
      "Epoch 30/100\n",
      "32/32 - 0s - loss: 0.3830 - 36ms/epoch - 1ms/step\n",
      "Epoch 31/100\n",
      "32/32 - 0s - loss: 0.4204 - 35ms/epoch - 1ms/step\n",
      "Epoch 32/100\n",
      "32/32 - 0s - loss: 0.4288 - 36ms/epoch - 1ms/step\n",
      "Epoch 33/100\n",
      "32/32 - 0s - loss: 0.3947 - 34ms/epoch - 1ms/step\n",
      "Epoch 34/100\n",
      "32/32 - 0s - loss: 0.3612 - 34ms/epoch - 1ms/step\n",
      "Epoch 35/100\n",
      "32/32 - 0s - loss: 0.4011 - 35ms/epoch - 1ms/step\n",
      "Epoch 36/100\n",
      "32/32 - 0s - loss: 0.3797 - 35ms/epoch - 1ms/step\n",
      "Epoch 37/100\n",
      "32/32 - 0s - loss: 0.3723 - 34ms/epoch - 1ms/step\n",
      "Epoch 38/100\n",
      "32/32 - 0s - loss: 0.4043 - 34ms/epoch - 1ms/step\n",
      "Epoch 39/100\n",
      "32/32 - 0s - loss: 0.3767 - 36ms/epoch - 1ms/step\n",
      "Epoch 40/100\n",
      "32/32 - 0s - loss: 0.4237 - 145ms/epoch - 5ms/step\n",
      "Epoch 41/100\n",
      "32/32 - 0s - loss: 0.3931 - 36ms/epoch - 1ms/step\n",
      "Epoch 42/100\n",
      "32/32 - 0s - loss: 0.3896 - 33ms/epoch - 1ms/step\n",
      "Epoch 43/100\n",
      "32/32 - 0s - loss: 0.3628 - 33ms/epoch - 1ms/step\n",
      "Epoch 44/100\n",
      "32/32 - 0s - loss: 0.3873 - 34ms/epoch - 1ms/step\n",
      "Epoch 45/100\n",
      "32/32 - 0s - loss: 0.3929 - 32ms/epoch - 1ms/step\n",
      "Epoch 46/100\n",
      "32/32 - 0s - loss: 0.3907 - 35ms/epoch - 1ms/step\n",
      "Epoch 47/100\n",
      "32/32 - 0s - loss: 0.4025 - 33ms/epoch - 1ms/step\n",
      "Epoch 48/100\n",
      "32/32 - 0s - loss: 0.3954 - 35ms/epoch - 1ms/step\n",
      "Epoch 49/100\n",
      "32/32 - 0s - loss: 0.3694 - 34ms/epoch - 1ms/step\n",
      "Epoch 50/100\n",
      "32/32 - 0s - loss: 0.3793 - 33ms/epoch - 1ms/step\n",
      "Epoch 51/100\n",
      "32/32 - 0s - loss: 0.3802 - 32ms/epoch - 1000us/step\n",
      "Epoch 52/100\n",
      "32/32 - 0s - loss: 0.3960 - 35ms/epoch - 1ms/step\n",
      "Epoch 53/100\n",
      "32/32 - 0s - loss: 0.3725 - 34ms/epoch - 1ms/step\n",
      "Epoch 54/100\n",
      "32/32 - 0s - loss: 0.3910 - 34ms/epoch - 1ms/step\n",
      "Epoch 55/100\n",
      "32/32 - 0s - loss: 0.3960 - 37ms/epoch - 1ms/step\n",
      "Epoch 56/100\n",
      "32/32 - 0s - loss: 0.3941 - 35ms/epoch - 1ms/step\n",
      "Epoch 57/100\n",
      "32/32 - 0s - loss: 0.3941 - 35ms/epoch - 1ms/step\n",
      "Epoch 58/100\n",
      "32/32 - 0s - loss: 0.3821 - 33ms/epoch - 1ms/step\n",
      "Epoch 59/100\n",
      "32/32 - 0s - loss: 0.3700 - 35ms/epoch - 1ms/step\n",
      "Epoch 60/100\n",
      "32/32 - 0s - loss: 0.3985 - 37ms/epoch - 1ms/step\n",
      "Epoch 61/100\n",
      "32/32 - 0s - loss: 0.3784 - 36ms/epoch - 1ms/step\n",
      "Epoch 62/100\n",
      "32/32 - 0s - loss: 0.3948 - 36ms/epoch - 1ms/step\n",
      "Epoch 63/100\n",
      "32/32 - 0s - loss: 0.3687 - 35ms/epoch - 1ms/step\n",
      "Epoch 64/100\n",
      "32/32 - 0s - loss: 0.3956 - 34ms/epoch - 1ms/step\n",
      "Epoch 65/100\n",
      "32/32 - 0s - loss: 0.3979 - 32ms/epoch - 1ms/step\n",
      "Epoch 66/100\n",
      "32/32 - 0s - loss: 0.3867 - 33ms/epoch - 1ms/step\n",
      "Epoch 67/100\n",
      "32/32 - 0s - loss: 0.3854 - 34ms/epoch - 1ms/step\n",
      "Epoch 68/100\n",
      "32/32 - 0s - loss: 0.3775 - 35ms/epoch - 1ms/step\n",
      "Epoch 69/100\n",
      "32/32 - 0s - loss: 0.4254 - 35ms/epoch - 1ms/step\n",
      "Epoch 70/100\n",
      "32/32 - 0s - loss: 0.3822 - 36ms/epoch - 1ms/step\n",
      "Epoch 71/100\n",
      "32/32 - 0s - loss: 0.4319 - 36ms/epoch - 1ms/step\n",
      "Epoch 72/100\n",
      "32/32 - 0s - loss: 0.3757 - 34ms/epoch - 1ms/step\n",
      "Epoch 73/100\n",
      "32/32 - 0s - loss: 0.4190 - 34ms/epoch - 1ms/step\n",
      "Epoch 74/100\n",
      "32/32 - 0s - loss: 0.4173 - 34ms/epoch - 1ms/step\n",
      "Epoch 75/100\n",
      "32/32 - 0s - loss: 0.3977 - 32ms/epoch - 1ms/step\n",
      "Epoch 76/100\n",
      "32/32 - 0s - loss: 0.3902 - 32ms/epoch - 1000us/step\n",
      "Epoch 77/100\n",
      "32/32 - 0s - loss: 0.3662 - 32ms/epoch - 1000us/step\n",
      "Epoch 78/100\n",
      "32/32 - 0s - loss: 0.4007 - 31ms/epoch - 969us/step\n",
      "Epoch 79/100\n",
      "32/32 - 0s - loss: 0.3802 - 35ms/epoch - 1ms/step\n",
      "Epoch 80/100\n",
      "32/32 - 0s - loss: 0.3885 - 33ms/epoch - 1ms/step\n",
      "Epoch 81/100\n",
      "32/32 - 0s - loss: 0.3782 - 33ms/epoch - 1ms/step\n",
      "Epoch 82/100\n",
      "32/32 - 0s - loss: 0.3763 - 35ms/epoch - 1ms/step\n",
      "Epoch 83/100\n",
      "32/32 - 0s - loss: 0.3828 - 33ms/epoch - 1ms/step\n",
      "Epoch 84/100\n",
      "32/32 - 0s - loss: 0.3841 - 30ms/epoch - 937us/step\n",
      "Epoch 85/100\n",
      "32/32 - 0s - loss: 0.3777 - 30ms/epoch - 937us/step\n",
      "Epoch 86/100\n",
      "32/32 - 0s - loss: 0.3713 - 30ms/epoch - 938us/step\n",
      "Epoch 87/100\n",
      "32/32 - 0s - loss: 0.4079 - 30ms/epoch - 937us/step\n",
      "Epoch 88/100\n",
      "32/32 - 0s - loss: 0.3808 - 30ms/epoch - 937us/step\n",
      "Epoch 89/100\n",
      "32/32 - 0s - loss: 0.3892 - 31ms/epoch - 959us/step\n",
      "Epoch 90/100\n",
      "32/32 - 0s - loss: 0.3704 - 31ms/epoch - 969us/step\n",
      "Epoch 91/100\n",
      "32/32 - 0s - loss: 0.3828 - 30ms/epoch - 938us/step\n",
      "Epoch 92/100\n",
      "32/32 - 0s - loss: 0.3898 - 30ms/epoch - 938us/step\n",
      "Epoch 93/100\n",
      "32/32 - 0s - loss: 0.3769 - 30ms/epoch - 937us/step\n",
      "Epoch 94/100\n",
      "32/32 - 0s - loss: 0.3725 - 29ms/epoch - 906us/step\n",
      "Epoch 95/100\n",
      "32/32 - 0s - loss: 0.3814 - 45ms/epoch - 1ms/step\n",
      "Epoch 96/100\n",
      "32/32 - 0s - loss: 0.4116 - 30ms/epoch - 937us/step\n",
      "Epoch 97/100\n",
      "32/32 - 0s - loss: 0.3908 - 30ms/epoch - 937us/step\n",
      "Epoch 98/100\n",
      "32/32 - 0s - loss: 0.3738 - 31ms/epoch - 969us/step\n",
      "Epoch 99/100\n",
      "32/32 - 0s - loss: 0.3827 - 30ms/epoch - 937us/step\n",
      "Epoch 100/100\n",
      "32/32 - 0s - loss: 0.3967 - 30ms/epoch - 937us/step\n"
     ]
    },
    {
     "data": {
      "text/plain": [
       "<keras.callbacks.History at 0x2858d4baef0>"
      ]
     },
     "execution_count": 4,
     "metadata": {},
     "output_type": "execute_result"
    }
   ],
   "source": [
    "input_size = 2\n",
    "output_size = 1\n",
    "\n",
    "model = tf.keras.Sequential([\n",
    "                            tf.keras.layers.Dense(output_size,\n",
    "                                                 kernel_initializer=tf.random_uniform_initializer(minval=-0.1, maxval=0.1),\n",
    "                                                 bias_initializer=tf.random_uniform_initializer(minval=-0.1, maxval=0.1)\n",
    "                                                 )\n",
    "                            ])\n",
    "\n",
    "custom_optimizer = tf.keras.optimizers.SGD(learning_rate=0.02)\n",
    "\n",
    "model.compile(optimizer=custom_optimizer, loss='mean_squared_error')\n",
    "\n",
    "model.fit(training_data['inputs'], training_data['targets'], epochs=100, verbose=2)"
   ]
  },
  {
   "cell_type": "code",
   "execution_count": 5,
   "metadata": {},
   "outputs": [
    {
     "data": {
      "text/plain": [
       "[array([[ 1.9284348],\n",
       "        [-2.991147 ]], dtype=float32),\n",
       " array([4.987202], dtype=float32)]"
      ]
     },
     "execution_count": 5,
     "metadata": {},
     "output_type": "execute_result"
    }
   ],
   "source": [
    "model.layers[0].get_weights()"
   ]
  },
  {
   "cell_type": "code",
   "execution_count": 6,
   "metadata": {},
   "outputs": [],
   "source": [
    "b=model.predict_on_batch(training_data['inputs']).round(1)\n",
    "a=training_data['targets'].round(1)"
   ]
  },
  {
   "cell_type": "code",
   "execution_count": 7,
   "metadata": {},
   "outputs": [
    {
     "data": {
      "text/plain": [
       "[<matplotlib.lines.Line2D at 0x2858db71a50>]"
      ]
     },
     "execution_count": 7,
     "metadata": {},
     "output_type": "execute_result"
    },
    {
     "ename": "",
     "evalue": "",
     "output_type": "error",
     "traceback": [
      "\u001b[1;31mCanceled future for execute_request message before replies were done"
     ]
    },
    {
     "ename": "",
     "evalue": "",
     "output_type": "error",
     "traceback": [
      "\u001b[1;31mThe Kernel crashed while executing code in the the current cell or a previous cell. Please review the code in the cell(s) to identify a possible cause of the failure. Click <a href='https://aka.ms/vscodeJupyterKernelCrash'>here</a> for more info. View Jupyter <a href='command:jupyter.viewOutput'>log</a> for further details."
     ]
    }
   ],
   "source": [
    "plt.plot(a,b)"
   ]
  }
 ],
 "metadata": {
  "kernelspec": {
   "display_name": "py3Tf2.12.0",
   "language": "python",
   "name": "python3"
  },
  "language_info": {
   "codemirror_mode": {
    "name": "ipython",
    "version": 3
   },
   "file_extension": ".py",
   "mimetype": "text/x-python",
   "name": "python",
   "nbconvert_exporter": "python",
   "pygments_lexer": "ipython3",
   "version": "3.10.11"
  },
  "orig_nbformat": 4
 },
 "nbformat": 4,
 "nbformat_minor": 2
}
