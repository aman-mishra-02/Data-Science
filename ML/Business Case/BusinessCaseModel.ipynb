{
 "cells": [
  {
   "cell_type": "code",
   "execution_count": 14,
   "metadata": {},
   "outputs": [],
   "source": [
    "import numpy as np\n",
    "import tensorflow as tf"
   ]
  },
  {
   "attachments": {},
   "cell_type": "markdown",
   "metadata": {},
   "source": [
    "#### Data"
   ]
  },
  {
   "cell_type": "code",
   "execution_count": 15,
   "metadata": {},
   "outputs": [],
   "source": [
    "npz = np.load('Audiobooks_data_train.npz')\n",
    "\n",
    "train_inputs = npz['inputs']\n",
    "train_targets = npz['targets']\n",
    "\n",
    "npz = np.load('Audiobooks_data_validation.npz')\n",
    "\n",
    "validation_inputs = npz['inputs']\n",
    "validation_targets = npz['targets']\n",
    "\n",
    "npz = np.load('Audiobooks_data_test.npz')\n",
    "\n",
    "test_inputs = npz['inputs']\n",
    "test_targets = npz['targets']\n"
   ]
  },
  {
   "attachments": {},
   "cell_type": "markdown",
   "metadata": {},
   "source": [
    "#### Model"
   ]
  },
  {
   "cell_type": "code",
   "execution_count": 16,
   "metadata": {},
   "outputs": [
    {
     "name": "stdout",
     "output_type": "stream",
     "text": [
      "Epoch 1/100\n",
      "36/36 - 1s - loss: 0.5923 - accuracy: 0.7024 - val_loss: 0.4881 - val_accuracy: 0.7673 - 1s/epoch - 30ms/step\n",
      "Epoch 2/100\n",
      "36/36 - 0s - loss: 0.4377 - accuracy: 0.7751 - val_loss: 0.4267 - val_accuracy: 0.7539 - 186ms/epoch - 5ms/step\n",
      "Epoch 3/100\n",
      "36/36 - 0s - loss: 0.4005 - accuracy: 0.7902 - val_loss: 0.3950 - val_accuracy: 0.8009 - 173ms/epoch - 5ms/step\n",
      "Epoch 4/100\n",
      "36/36 - 1s - loss: 0.3887 - accuracy: 0.7974 - val_loss: 0.3851 - val_accuracy: 0.8031 - 546ms/epoch - 15ms/step\n",
      "Epoch 5/100\n",
      "36/36 - 0s - loss: 0.3807 - accuracy: 0.7977 - val_loss: 0.3797 - val_accuracy: 0.8076 - 201ms/epoch - 6ms/step\n",
      "Epoch 6/100\n",
      "36/36 - 0s - loss: 0.3709 - accuracy: 0.8069 - val_loss: 0.3770 - val_accuracy: 0.7875 - 216ms/epoch - 6ms/step\n",
      "Epoch 7/100\n",
      "36/36 - 0s - loss: 0.3721 - accuracy: 0.7946 - val_loss: 0.3841 - val_accuracy: 0.7673 - 220ms/epoch - 6ms/step\n",
      "Epoch 8/100\n",
      "36/36 - 0s - loss: 0.3685 - accuracy: 0.8027 - val_loss: 0.3679 - val_accuracy: 0.8166 - 200ms/epoch - 6ms/step\n",
      "Epoch 9/100\n",
      "36/36 - 0s - loss: 0.3640 - accuracy: 0.8092 - val_loss: 0.3679 - val_accuracy: 0.8188 - 208ms/epoch - 6ms/step\n",
      "Epoch 10/100\n",
      "36/36 - 0s - loss: 0.3586 - accuracy: 0.8097 - val_loss: 0.3669 - val_accuracy: 0.8143 - 169ms/epoch - 5ms/step\n",
      "Epoch 11/100\n",
      "36/36 - 0s - loss: 0.3592 - accuracy: 0.8097 - val_loss: 0.3903 - val_accuracy: 0.7852 - 206ms/epoch - 6ms/step\n",
      "Epoch 12/100\n",
      "36/36 - 0s - loss: 0.3558 - accuracy: 0.8108 - val_loss: 0.3797 - val_accuracy: 0.8009 - 184ms/epoch - 5ms/step\n"
     ]
    },
    {
     "data": {
      "text/plain": [
       "<keras.callbacks.History at 0x2b66ae4cbb0>"
      ]
     },
     "execution_count": 16,
     "metadata": {},
     "output_type": "execute_result"
    }
   ],
   "source": [
    "input_size = 10\n",
    "output_size = 2\n",
    "hidden_layer_size = 50\n",
    "\n",
    "model = tf.keras.Sequential([\n",
    "                            tf.keras.layers.Dense(hidden_layer_size, activation = 'relu'),\n",
    "                            tf.keras.layers.Dense(hidden_layer_size, activation = 'relu'),\n",
    "                            tf.keras.layers.Dense(hidden_layer_size, activation='relu'),\n",
    "                            tf.keras.layers.Dense(hidden_layer_size, activation = 'relu'),\n",
    "                            tf.keras.layers.Dense(output_size,activation='softmax')\n",
    "                            ])\n",
    "\n",
    "model.compile(optimizer=\"adam\", loss='sparse_categorical_crossentropy', metrics=['accuracy'])\n",
    "\n",
    "batch_size = 100\n",
    "max_epochs = 100\n",
    "\n",
    "early_stopping = tf.keras.callbacks.EarlyStopping(patience=2)\n",
    "\n",
    "model.fit(train_inputs,\n",
    "          train_targets,\n",
    "          batch_size= batch_size,\n",
    "          epochs= max_epochs,\n",
    "          callbacks=[early_stopping],\n",
    "          validation_data=(validation_inputs,validation_targets),\n",
    "          verbose=2)"
   ]
  },
  {
   "cell_type": "code",
   "execution_count": 17,
   "metadata": {},
   "outputs": [
    {
     "name": "stdout",
     "output_type": "stream",
     "text": [
      "14/14 [==============================] - 0s 4ms/step - loss: 0.3400 - accuracy: 0.8214\n"
     ]
    }
   ],
   "source": [
    "test_loss, test_accuracy = model.evaluate(test_inputs,test_targets)"
   ]
  }
 ],
 "metadata": {
  "kernelspec": {
   "display_name": "py3tf2",
   "language": "python",
   "name": "python3"
  },
  "language_info": {
   "codemirror_mode": {
    "name": "ipython",
    "version": 3
   },
   "file_extension": ".py",
   "mimetype": "text/x-python",
   "name": "python",
   "nbconvert_exporter": "python",
   "pygments_lexer": "ipython3",
   "version": "3.10.11"
  },
  "orig_nbformat": 4
 },
 "nbformat": 4,
 "nbformat_minor": 2
}
