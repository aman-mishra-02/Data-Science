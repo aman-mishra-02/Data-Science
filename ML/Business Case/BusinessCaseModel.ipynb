{
 "cells": [
  {
   "cell_type": "code",
   "execution_count": 1,
   "metadata": {},
   "outputs": [],
   "source": [
    "import numpy as np\n",
    "import tensorflow as tf"
   ]
  },
  {
   "attachments": {},
   "cell_type": "markdown",
   "metadata": {},
   "source": [
    "#### Data"
   ]
  },
  {
   "cell_type": "code",
   "execution_count": 4,
   "metadata": {},
   "outputs": [],
   "source": [
    "npz = np.load('Audiobooks_data_train.npz')\n",
    "\n",
    "train_inputs = npz['inputs']\n",
    "train_targets = npz['targets']\n",
    "\n",
    "npz = np.load('Audiobooks_data_validation.npz')\n",
    "\n",
    "validation_inputs = npz['inputs']\n",
    "validation_targets = npz['targets']\n",
    "\n",
    "npz = np.load('Audiobooks_data_test.npz')\n",
    "\n",
    "test_inputs = npz['inputs']\n",
    "test_targets = npz['targets']\n"
   ]
  },
  {
   "attachments": {},
   "cell_type": "markdown",
   "metadata": {},
   "source": [
    "#### Model"
   ]
  },
  {
   "cell_type": "code",
   "execution_count": 12,
   "metadata": {},
   "outputs": [
    {
     "name": "stdout",
     "output_type": "stream",
     "text": [
      "Epoch 1/100\n",
      "18/18 - 1s - loss: 0.5777 - accuracy: 0.7130 - val_loss: 0.4640 - val_accuracy: 0.7450 - 972ms/epoch - 54ms/step\n",
      "Epoch 2/100\n",
      "18/18 - 0s - loss: 0.4011 - accuracy: 0.7854 - val_loss: 0.4060 - val_accuracy: 0.7651 - 132ms/epoch - 7ms/step\n",
      "Epoch 3/100\n",
      "18/18 - 0s - loss: 0.3597 - accuracy: 0.8055 - val_loss: 0.4001 - val_accuracy: 0.7875 - 137ms/epoch - 8ms/step\n",
      "Epoch 4/100\n",
      "18/18 - 0s - loss: 0.3555 - accuracy: 0.8128 - val_loss: 0.3869 - val_accuracy: 0.7673 - 120ms/epoch - 7ms/step\n",
      "Epoch 5/100\n",
      "18/18 - 0s - loss: 0.3400 - accuracy: 0.8150 - val_loss: 0.3860 - val_accuracy: 0.7919 - 112ms/epoch - 6ms/step\n",
      "Epoch 6/100\n",
      "18/18 - 0s - loss: 0.3335 - accuracy: 0.8198 - val_loss: 0.3645 - val_accuracy: 0.7919 - 112ms/epoch - 6ms/step\n",
      "Epoch 7/100\n",
      "18/18 - 0s - loss: 0.3302 - accuracy: 0.8139 - val_loss: 0.3860 - val_accuracy: 0.7964 - 113ms/epoch - 6ms/step\n",
      "Epoch 8/100\n",
      "18/18 - 0s - loss: 0.3247 - accuracy: 0.8215 - val_loss: 0.3801 - val_accuracy: 0.7852 - 124ms/epoch - 7ms/step\n"
     ]
    },
    {
     "data": {
      "text/plain": [
       "<keras.callbacks.History at 0x2b6726b2dd0>"
      ]
     },
     "execution_count": 12,
     "metadata": {},
     "output_type": "execute_result"
    }
   ],
   "source": [
    "input_size = 10\n",
    "output_size = 2\n",
    "hidden_layer_size = 100\n",
    "\n",
    "model = tf.keras.Sequential([\n",
    "                            tf.keras.layers.Dense(hidden_layer_size, activation = 'relu'),\n",
    "                            tf.keras.layers.Dense(hidden_layer_size, activation = 'relu'),\n",
    "                            tf.keras.layers.Dense(hidden_layer_size, activation='relu'),\n",
    "                            tf.keras.layers.Dense(hidden_layer_size, activation = 'relu'),\n",
    "                            tf.keras.layers.Dense(output_size,activation='softmax')\n",
    "                            ])\n",
    "\n",
    "model.compile(optimizer=\"adam\", loss='sparse_categorical_crossentropy', metrics=['accuracy'])\n",
    "\n",
    "batch_size = 200\n",
    "max_epochs = 100\n",
    "\n",
    "early_stopping = tf.keras.callbacks.EarlyStopping(patience=2)\n",
    "\n",
    "model.fit(train_inputs,\n",
    "          train_targets,\n",
    "          batch_size= batch_size,\n",
    "          epochs= max_epochs,\n",
    "          callbacks=[early_stopping],\n",
    "          validation_data=(validation_inputs,validation_targets),\n",
    "          verbose=2)"
   ]
  },
  {
   "cell_type": "code",
   "execution_count": 13,
   "metadata": {},
   "outputs": [
    {
     "name": "stdout",
     "output_type": "stream",
     "text": [
      "14/14 [==============================] - 0s 3ms/step - loss: 0.3228 - accuracy: 0.8304\n"
     ]
    }
   ],
   "source": [
    "test_loss, test_accuracy = model.evaluate(test_inputs,test_targets)"
   ]
  }
 ],
 "metadata": {
  "kernelspec": {
   "display_name": "py3tf2",
   "language": "python",
   "name": "python3"
  },
  "language_info": {
   "codemirror_mode": {
    "name": "ipython",
    "version": 3
   },
   "file_extension": ".py",
   "mimetype": "text/x-python",
   "name": "python",
   "nbconvert_exporter": "python",
   "pygments_lexer": "ipython3",
   "version": "3.10.11"
  },
  "orig_nbformat": 4
 },
 "nbformat": 4,
 "nbformat_minor": 2
}
